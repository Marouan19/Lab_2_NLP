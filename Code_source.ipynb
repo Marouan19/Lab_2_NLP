{
 "cells": [
  {
   "cell_type": "markdown",
   "source": [
    "<h1 style=\"text-align:center; font-size:200%;\">Lab 2</h1>\n",
    "<h1 style=\"text-align:center; font-size:150%;\">Bill Generation</h1>\n",
    "<h4 style=\"text-align:left;\">Performed by: DAGHMOUMI Marouan</h4>\n",
    "<h4 style=\"text-align:left;\">Supervised by: AACHAK Lotfi</h4>\n"
   ],
   "metadata": {
    "collapsed": false
   },
   "id": "103044c424e38b5"
  },
  {
   "cell_type": "markdown",
   "source": [
    "# *Part 1: Rule Based NLP and Regex:*"
   ],
   "metadata": {
    "collapsed": false
   },
   "id": "d0cb248ecd3b07ca"
  },
  {
   "cell_type": "code",
   "execution_count": 1,
   "outputs": [],
   "source": [
    "import re"
   ],
   "metadata": {
    "collapsed": false,
    "ExecuteTime": {
     "end_time": "2024-04-28T17:40:46.090664Z",
     "start_time": "2024-04-28T17:40:46.084492Z"
    }
   },
   "id": "bc00bc4656d18932"
  },
  {
   "cell_type": "code",
   "execution_count": 2,
   "outputs": [],
   "source": [
    "def convert_to_number(text):\n",
    "    numbers = {\"one\": 1, \"two\": 2, \"three\": 3, \"four\": 4, \"five\": 5, \"six\": 6, \"seven\": 7, \"eight\": 8, \"nine\": 9, \"ten\": 10}\n",
    "    return numbers[text.lower()]"
   ],
   "metadata": {
    "collapsed": false,
    "ExecuteTime": {
     "end_time": "2024-04-28T17:50:42.702425Z",
     "start_time": "2024-04-28T17:50:42.697631Z"
    }
   },
   "id": "a7f6833099c186a7"
  },
  {
   "cell_type": "code",
   "execution_count": 16,
   "outputs": [
    {
     "name": "stdout",
     "output_type": "stream",
     "text": [
      "Generated Bill:\n",
      "Product\t\t\t\tQuantity\t\t\tUnit Price\n",
      "Samsung smartphones 150 each four kilos of fresh banana for2                   12.0                \n",
      "Hamburger with                                    1                   45.0                \n"
     ]
    }
   ],
   "source": [
    "def generate_bill(text):\n",
    "    # Find quantities, products, and prices using regex\n",
    "    pattern = r'(\\b\\d+\\b|\\bone\\b|\\btwo\\b|\\bthree\\b|\\bfour\\b|\\bfive\\b|\\bsix\\b|\\bseven\\b|\\beight\\b|\\bnine\\b|\\bten\\b)\\s+(.*?)\\s+(\\d+(?:,\\d+)?)\\s+dollar'\n",
    "    matches = re.findall(pattern, text, flags=re.IGNORECASE)\n",
    "    \n",
    "    # Process each match\n",
    "    bill = {}\n",
    "    for match in matches:\n",
    "        quantity = int(match[0]) if match[0].isdigit() else convert_to_number(match[0])\n",
    "        product = match[1]\n",
    "        price = float(match[2].replace(',', '.'))\n",
    "        \n",
    "        if product in bill:\n",
    "            bill[product]['quantity'] += quantity\n",
    "            bill[product]['total_price'] += quantity * price\n",
    "        else:\n",
    "            bill[product] = {'quantity': quantity, 'unit_price': price, 'total_price': quantity * price}\n",
    "    \n",
    "    # Print the generated bill\n",
    "    print(\"Generated Bill:\")\n",
    "    print(\"Product\\t\\t\\t\\tQuantity\\t\\t\\tUnit Price\")\n",
    "    for product, details in bill.items():\n",
    "        print(f\"{product.ljust(50, ' ')}{str(details['quantity']).ljust(20, ' ')}{str(details['unit_price']).ljust(20, ' ')}\")\n",
    "\n",
    "# Test text\n",
    "user_text = \"I bought Two Samsung smartphones 150 $ each, four kilos of fresh banana for 1,2 dollar a kilogram and one Hamburger with 4,5 dollar\"\n",
    "\n",
    "generate_bill(user_text)"
   ],
   "metadata": {
    "collapsed": false,
    "ExecuteTime": {
     "end_time": "2024-04-28T18:00:20.898063Z",
     "start_time": "2024-04-28T18:00:20.377592Z"
    }
   },
   "id": "1d82ee56223336a4"
  },
  {
   "cell_type": "markdown",
   "source": [
    "# *Part 2: word Embedding*"
   ],
   "metadata": {
    "collapsed": false
   },
   "id": "b16fa5a95e4b7058"
  },
  {
   "cell_type": "code",
   "execution_count": null,
   "outputs": [],
   "source": [],
   "metadata": {
    "collapsed": false
   },
   "id": "1da0e286c449d460"
  }
 ],
 "metadata": {
  "kernelspec": {
   "display_name": "Python 3",
   "language": "python",
   "name": "python3"
  },
  "language_info": {
   "codemirror_mode": {
    "name": "ipython",
    "version": 2
   },
   "file_extension": ".py",
   "mimetype": "text/x-python",
   "name": "python",
   "nbconvert_exporter": "python",
   "pygments_lexer": "ipython2",
   "version": "2.7.6"
  }
 },
 "nbformat": 4,
 "nbformat_minor": 5
}
