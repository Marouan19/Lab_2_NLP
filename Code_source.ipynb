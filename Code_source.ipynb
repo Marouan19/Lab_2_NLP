{
 "cells": [
  {
   "cell_type": "markdown",
   "source": [
    "<h1 style=\"text-align:center; font-size:200%;\">Lab 2</h1>\n",
    "<h1 style=\"text-align:center; font-size:150%;\">Bill Generation</h1>\n",
    "<h4 style=\"text-align:left;\">Performed by: DAGHMOUMI Marouan</h4>\n",
    "<h4 style=\"text-align:left;\">Supervised by: AACHAK Lotfi</h4>\n"
   ],
   "metadata": {
    "collapsed": false
   },
   "id": "103044c424e38b5"
  },
  {
   "cell_type": "markdown",
   "source": [
    "# *Part 1: Rule Based NLP and Regex:*"
   ],
   "metadata": {
    "collapsed": false
   },
   "id": "d0cb248ecd3b07ca"
  },
  {
   "cell_type": "markdown",
   "source": [
    "\n",
    "\n",
    "*   Importing libraries\n",
    "\n"
   ],
   "metadata": {
    "collapsed": false
   },
   "id": "2a8994dc2c629f70"
  },
  {
   "cell_type": "code",
   "execution_count": 6,
   "outputs": [],
   "source": [
    "import re"
   ],
   "metadata": {
    "collapsed": false,
    "ExecuteTime": {
     "end_time": "2024-04-28T16:59:04.447054Z",
     "start_time": "2024-04-28T16:59:04.433044Z"
    }
   },
   "id": "bc00bc4656d18932"
  },
  {
   "cell_type": "code",
   "execution_count": 9,
   "outputs": [],
   "source": [],
   "metadata": {
    "collapsed": false,
    "ExecuteTime": {
     "end_time": "2024-04-28T17:04:18.600119Z",
     "start_time": "2024-04-28T17:04:18.590808Z"
    }
   },
   "id": "abf81bbbaa724898"
  },
  {
   "cell_type": "code",
   "execution_count": 10,
   "outputs": [
    {
     "name": "stdout",
     "output_type": "stream",
     "text": [
      "Generated Bill:\n",
      "Product\t\tQuantity\tUnit Price\n",
      "Samsung smartphones 150 $ each, four kilos of fresh banana for\t\t2\t\t1.2\n",
      "Hamburger with\t\t1\t\t4.5\n",
      "Total Price:\n",
      "2.4\n",
      "4.5\n"
     ]
    }
   ],
   "source": [],
   "metadata": {
    "collapsed": false,
    "ExecuteTime": {
     "end_time": "2024-04-28T17:04:18.979304Z",
     "start_time": "2024-04-28T17:04:18.974352Z"
    }
   },
   "id": "7c46437e1dda43cc"
  },
  {
   "cell_type": "code",
   "execution_count": null,
   "outputs": [],
   "source": [],
   "metadata": {
    "collapsed": false
   },
   "id": "b39005143dbe0cab"
  }
 ],
 "metadata": {
  "kernelspec": {
   "display_name": "Python 3",
   "language": "python",
   "name": "python3"
  },
  "language_info": {
   "codemirror_mode": {
    "name": "ipython",
    "version": 2
   },
   "file_extension": ".py",
   "mimetype": "text/x-python",
   "name": "python",
   "nbconvert_exporter": "python",
   "pygments_lexer": "ipython2",
   "version": "2.7.6"
  }
 },
 "nbformat": 4,
 "nbformat_minor": 5
}
